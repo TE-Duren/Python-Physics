{
 "cells": [
  {
   "cell_type": "code",
   "execution_count": 4,
   "metadata": {},
   "outputs": [],
   "source": [
    "import numpy as np\n",
    "import sympy as sp\n",
    "import matplotlib.pyplot as plt\n",
    "from sympy import Symbol \n",
    "from sympy import symbols \n",
    "from sympy import *\n",
    "x,z= symbols(\"x,z\",real=True)\n",
    "init_printing(use_unicode=True)"
   ]
  },
  {
   "cell_type": "code",
   "execution_count": 5,
   "metadata": {},
   "outputs": [],
   "source": [
    "#Type in your function here in terms of y and z\n",
    "\n",
    "y = z**5"
   ]
  },
  {
   "cell_type": "code",
   "execution_count": 7,
   "metadata": {},
   "outputs": [
    {
     "name": "stdout",
     "output_type": "stream",
     "text": [
      "Enter spatial step: .0001,.2\n",
      "0.0001\n",
      "Enter point where you are evaluating the 2nd derivative (in multiples of dx): 1\n",
      "The 2nd derivative is:  20.000000100495186\n",
      "0.2\n",
      "Enter point where you are evaluating the 2nd derivative (in multiples of dx): 1\n",
      "The 2nd derivative is:  20.400000000000038\n"
     ]
    }
   ],
   "source": [
    "#* Evaluates 2nd Derivative for any function at any point\n",
    "\n",
    "dx_list = eval(input('Enter spatial step: '))   #delta_x step\n",
    "maxstep = 11000    # Maximum number of steps   \n",
    "\n",
    "\n",
    "sdrvplot = []\n",
    "\n",
    "for n in list(dx_list):\n",
    "    print(n)\n",
    "    dx = float(n)\n",
    "    \n",
    "    secdrvs = np.empty(maxstep) #Place these in between loops to reset arrays for every new dx\n",
    "    xarray = []\n",
    "    \n",
    "    for i in range(maxstep):\n",
    "    \n",
    "        x = i*dx         # Current distance\n",
    "        xf = (i+1)*dx    # n+1 from current distance or x+delta_x\n",
    "        xp = (i-1)*dx    # n-1 from current distance\n",
    "        xarray.append(x) \n",
    "    \n",
    "        secdrv = (y.subs(z,xf)+y.subs(z,xp)-2*y.subs(z,x))/(dx**2) #substitute distance iterations\n",
    "        secdrvs[i] = secdrv #Record ith second derivative\n",
    "    \n",
    "#print(secplt)\n",
    "#print(xarray)\n",
    "\n",
    "#jth index located in same array location for second derivs and x\n",
    "    k = input('Enter point where you are evaluating the 2nd derivative (in multiples of dx): ') \n",
    "    j = xarray.index(float(k))\n",
    "    secdrv_eval = secdrvs[j] \n",
    "    print('The 2nd derivative is: ',secdrv_eval) #Your second derivative approximation \n",
    "    sdrvplot.append(secdrv_eval)"
   ]
  },
  {
   "cell_type": "code",
   "execution_count": 8,
   "metadata": {},
   "outputs": [
    {
     "name": "stdout",
     "output_type": "stream",
     "text": [
      "Absolute error:  [1.00495185506588e-7, 0.400000000000038]\n"
     ]
    }
   ],
   "source": [
    "abs_error = []\n",
    "\n",
    "for m in list(sdrvplot):\n",
    "    \n",
    "    errvalue = abs(diff(y,z,2).subs(z,k) - m)\n",
    "    \n",
    "    abs_error.append(errvalue)\n",
    "print('Absolute error: ',abs_error)"
   ]
  },
  {
   "cell_type": "code",
   "execution_count": 11,
   "metadata": {},
   "outputs": [
    {
     "data": {
      "image/png": "[encoded data removed]",
      "text/plain": [
       "<Figure size 432x288 with 1 Axes>"
      ]
     },
     "metadata": {
      "needs_background": "light"
     },
     "output_type": "display_data"
    }
   ],
   "source": [
    "plt.loglog(dx_list,abs_error,'g*')\n",
    "plt.grid(True)\n",
    "plt.title(r'$\\Delta h$')\n",
    "plt.xlabel('dx')\n",
    "plt.ylabel(r'$\\Delta h$')\n",
    "plt.show()"
   ]
  },
  {
   "cell_type": "code",
   "execution_count": null,
   "metadata": {},
   "outputs": [],
   "source": []
  }
 ],
 "metadata": {
  "kernelspec": {
   "display_name": "Python 3",
   "language": "python",
   "name": "python3"
  },
  "language_info": {
   "codemirror_mode": {
    "name": "ipython",
    "version": 3
   },
   "file_extension": ".py",
   "mimetype": "text/x-python",
   "name": "python",
   "nbconvert_exporter": "python",
   "pygments_lexer": "ipython3",
   "version": "3.8.5"
  }
 },
 "nbformat": 4,
 "nbformat_minor": 4
}
