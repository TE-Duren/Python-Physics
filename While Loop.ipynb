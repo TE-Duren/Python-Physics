{
 "cells": [
  {
   "cell_type": "code",
   "execution_count": 2,
   "metadata": {},
   "outputs": [],
   "source": [
    "#Checks condition, executes code as long as condition is true\n",
    "#while condition:\n",
    "    #executable code1\n",
    "    #executable code2\n",
    "    #executable code3\n",
    "    #If condition false for 1,2,3, it skips to code 4\n",
    "#executable code4 "
   ]
  },
  {
   "cell_type": "code",
   "execution_count": 3,
   "metadata": {},
   "outputs": [],
   "source": [
    "while False:\n",
    "    print(\"Hello\")"
   ]
  },
  {
   "cell_type": "code",
   "execution_count": 2,
   "metadata": {},
   "outputs": [
    {
     "name": "stdout",
     "output_type": "stream",
     "text": [
      "0\n",
      "1\n",
      "2\n",
      "3\n",
      "4\n",
      "5\n",
      "6\n",
      "7\n",
      "8\n",
      "9\n",
      "10\n",
      "11\n",
      "Hello\n"
     ]
    }
   ],
   "source": [
    "counter = 0\n",
    "while counter < 12:\n",
    "    print(counter)\n",
    "    counter = counter + 1\n",
    "print(\"Hello\")"
   ]
  },
  {
   "cell_type": "code",
   "execution_count": 3,
   "metadata": {},
   "outputs": [
    {
     "name": "stdout",
     "output_type": "stream",
     "text": [
      "14\n",
      "28\n",
      "42\n",
      "56\n",
      "70\n",
      "84\n",
      "98\n",
      "112\n",
      "126\n",
      "140\n"
     ]
    }
   ],
   "source": [
    "i = 1\n",
    "while i <= 10:\n",
    "    print(i*14)\n",
    "    i = i + 1 #assigns new value of i to be looped again"
   ]
  },
  {
   "cell_type": "code",
   "execution_count": 1,
   "metadata": {},
   "outputs": [
    {
     "name": "stdout",
     "output_type": "stream",
     "text": [
      "10\n",
      "20\n",
      "22\n",
      "12\n"
     ]
    }
   ],
   "source": [
    "i = 5\n",
    "i = i+5\n",
    "print(i)\n",
    "i = i+10\n",
    "print(i)\n",
    "i = i+ 2\n",
    "print(i)\n",
    "i = i-10\n",
    "print(i)"
   ]
  },
  {
   "cell_type": "code",
   "execution_count": 2,
   "metadata": {},
   "outputs": [
    {
     "name": "stdout",
     "output_type": "stream",
     "text": [
      "Enter your name >>>Timothy Duren\n",
      "Math marks >>>50\n",
      "Science marks >>>70\n",
      "English marks >>>90\n",
      "Comp marks >>>90\n",
      "Timothy Duren , your total marks is 300 and your percentage is 75.0\n",
      "Want to enter more y/n >>>no\n"
     ]
    }
   ],
   "source": [
    "#In order to run, more has to be set to True initially to create a condition\n",
    "#that if it reads false eventually, the while loop will stop\n",
    "more = True\n",
    "while more == True:\n",
    "    '''Taking marks from user for marks'''\n",
    "    name = input(\"Enter your name >>>\")\n",
    "    math_marks = int(input(\"Math marks >>>\"))\n",
    "    science_marks = int(input(\"Science marks >>>\"))\n",
    "    english_marks = int(input(\"English marks >>>\"))\n",
    "    comp_marks = int(input(\"Comp marks >>>\"))\n",
    "    total = math_marks + science_marks + english_marks + comp_marks\n",
    "    \n",
    "    percentage = (total/400)*100\n",
    "    print(name,\", your total marks is\",total,\"and your percentage is\"\n",
    "         ,percentage)\n",
    "    \n",
    "    #User have to enter y if he wants to run again\n",
    "    a = input(\"Want to enter more y/n >>>\")\n",
    "    if a!=\"y\":\n",
    "        more = False"
   ]
  },
  {
   "cell_type": "code",
   "execution_count": 2,
   "metadata": {},
   "outputs": [
    {
     "name": "stdout",
     "output_type": "stream",
     "text": [
      "Give lower limit of dice\n",
      "1\n",
      "Give upper limit of dice\n",
      "6\n",
      "type q to Quit or any other key/enter to continue\n",
      ">>>3\n",
      "\n",
      ">>>3\n",
      "\n",
      ">>>2\n",
      "\n",
      ">>>5\n",
      "\n",
      ">>>5\n",
      "q\n"
     ]
    }
   ],
   "source": [
    "#Digital Dice\n",
    "#Importing random func to generate rand number\n",
    "from random import randint\n",
    "print(\"Give lower limit of dice\")\n",
    "a = int(input())\n",
    "print(\"Give upper limit of dice\")\n",
    "b = int(input())\n",
    "\n",
    "print(\"type q to Quit or any other key/enter to continue\")\n",
    "while True:\n",
    "    print(\">>>\"+str(randint(a,b)))#randint requires string to concetenate\n",
    "    #to smallest value of 1\n",
    "    if input() == 'q':\n",
    "        break\n",
    "    "
   ]
  },
  {
   "cell_type": "code",
   "execution_count": null,
   "metadata": {},
   "outputs": [],
   "source": []
  }
 ],
 "metadata": {
  "kernelspec": {
   "display_name": "Python 3",
   "language": "python",
   "name": "python3"
  },
  "language_info": {
   "codemirror_mode": {
    "name": "ipython",
    "version": 3
   },
   "file_extension": ".py",
   "mimetype": "text/x-python",
   "name": "python",
   "nbconvert_exporter": "python",
   "pygments_lexer": "ipython3",
   "version": "3.6.4"
  }
 },
 "nbformat": 4,
 "nbformat_minor": 2
}
