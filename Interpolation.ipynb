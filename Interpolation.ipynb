{
 "cells": [
  {
   "cell_type": "code",
   "execution_count": null,
   "metadata": {},
   "outputs": [],
   "source": [
    "# interp - Program to interpolate data using Lagrange \n",
    "# polynomial to fit quadratic to three data points\n",
    "\n",
    "# Set up configuration options and special features\n",
    "import numpy as np\n",
    "import matplotlib.pyplot as plt"
   ]
  },
  {
   "cell_type": "code",
   "execution_count": null,
   "metadata": {},
   "outputs": [],
   "source": [
    "def intrpf(xi,x,y):\n",
    "    \"\"\"Function to interpolate between data points\n",
    "       using Lagrange polynomial (quadratic)\n",
    "       Inputs\n",
    "        x    Vector of x coordinates of data points (3 values)\n",
    "        y    Vector of y coordinates of data points (3 values)\n",
    "        xi   The x value where interpolation is computed\n",
    "      Output\n",
    "        yi   The interpolation polynomial evaluated at xi\n",
    "    \"\"\"\n",
    "\n",
    "    #* Calculate yi = p(xi) using Lagrange polynomial\n",
    "    yi = ( (xi-x[1])*(xi-x[2])/((x[0]-x[1])*(x[0]-x[2])) * y[0]\n",
    "    + (xi-x[0])*(xi-x[2])/((x[1]-x[0])*(x[1]-x[2])) * y[1]\n",
    "    + (xi-x[0])*(xi-x[1])/((x[2]-x[0])*(x[2]-x[1])) * y[2] )\n",
    "    return yi"
   ]
  },
  {
   "cell_type": "code",
   "execution_count": 12,
   "metadata": {},
   "outputs": [
    {
     "name": "stdout",
     "output_type": "stream",
     "text": [
      "Enter data points as x,y pairs (e.g., [1, 2])\n",
      "Enter Data points here:1 2\n",
      "Enter Data points here:3 4\n",
      "Enter Data points here:5 6\n"
     ]
    }
   ],
   "source": [
    "#* Initialize the data points to be fit by quadratic\n",
    "x = np.empty(3)\n",
    "y = np.empty(3)\n",
    "print('Enter data points as x,y pairs (e.g., 1 2)')\n",
    "\n",
    "for i in range(3):\n",
    "    temp = input('Enter Data points here:')\n",
    "    list  = temp.split()\n",
    "    for j in list:\n",
    "        \n",
    "        x[i] = list[0]\n",
    "        y[i] = list[1]\n",
    "        "
   ]
  },
  {
   "cell_type": "code",
   "execution_count": 43,
   "metadata": {},
   "outputs": [
    {
     "name": "stdout",
     "output_type": "stream",
     "text": [
      "Enter the list items : 0 10\n"
     ]
    },
    {
     "data": {
      "text/plain": [
       "array([ 0, 10])"
      ]
     },
     "execution_count": 43,
     "metadata": {},
     "output_type": "execute_result"
    }
   ],
   "source": [
    "#* Establish the range of interpolation (from x_min to x_max)\n",
    "lst1 = [float(item) for item in input(\"Enter the list items : \").split()]\n",
    "xr = np.array(lst1)\n",
    "#xr = np.array(float(input('Enter range of x values as x_min x_max: ')))\n",
    "\n",
    "xr"
   ]
  },
  {
   "cell_type": "code",
   "execution_count": 39,
   "metadata": {},
   "outputs": [],
   "source": [
    "#* Find yi for the desired interpolation values xi using\n",
    "#  the function intrpf\n",
    "nplot = 100     # Number of points for interpolation curve\n",
    "xi = np.empty(nplot)\n",
    "yi = np.empty(nplot)\n",
    "for i in range(nplot) :\n",
    "    xi[i] = xr[0] + (xr[1]-xr[0])* i/float(nplot)\n",
    "    yi[i] = intrpf(xi[i], x, y)    # Use intrpf function to interpolate"
   ]
  },
  {
   "cell_type": "code",
   "execution_count": 40,
   "metadata": {},
   "outputs": [
    {
     "data": {
      "image/png": "[encoded data removed]",
      "text/plain": [
       "<Figure size 432x288 with 1 Axes>"
      ]
     },
     "metadata": {
      "needs_background": "light"
     },
     "output_type": "display_data"
    }
   ],
   "source": [
    "#* Plot the curve given by (xi,yi) and mark original data points\n",
    "plt.plot(x,y,'*',xi,yi,'-')\n",
    "plt.xlabel('x')\n",
    "plt.ylabel('y')\n",
    "plt.title('Three point interpolation')\n",
    "plt.legend(['Data points','Interpolation  '])\n",
    "plt.show()"
   ]
  },
  {
   "cell_type": "code",
   "execution_count": null,
   "metadata": {},
   "outputs": [],
   "source": []
  }
 ],
 "metadata": {
  "kernelspec": {
   "display_name": "Python 3",
   "language": "python",
   "name": "python3"
  },
  "language_info": {
   "codemirror_mode": {
    "name": "ipython",
    "version": 3
   },
   "file_extension": ".py",
   "mimetype": "text/x-python",
   "name": "python",
   "nbconvert_exporter": "python",
   "pygments_lexer": "ipython3",
   "version": "3.8.5"
  }
 },
 "nbformat": 4,
 "nbformat_minor": 4
}
