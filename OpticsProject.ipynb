{
 "cells": [
  {
   "cell_type": "code",
   "execution_count": 2,
   "metadata": {},
   "outputs": [
    {
     "name": "stdout",
     "output_type": "stream",
     "text": [
      "Requirement already satisfied: pyjones in /opt/anaconda3/lib/python3.8/site-packages (0.6.0)\n",
      "Requirement already satisfied: matplotlib in /opt/anaconda3/lib/python3.8/site-packages (from pyjones) (3.3.2)\n",
      "Requirement already satisfied: numpy in /opt/anaconda3/lib/python3.8/site-packages (from pyjones) (1.19.2)\n",
      "Requirement already satisfied: pillow>=6.2.0 in /opt/anaconda3/lib/python3.8/site-packages (from matplotlib->pyjones) (8.0.1)\n",
      "Requirement already satisfied: kiwisolver>=1.0.1 in /opt/anaconda3/lib/python3.8/site-packages (from matplotlib->pyjones) (1.3.0)\n",
      "Requirement already satisfied: cycler>=0.10 in /opt/anaconda3/lib/python3.8/site-packages (from matplotlib->pyjones) (0.10.0)\n",
      "Requirement already satisfied: pyparsing!=2.0.4,!=2.1.2,!=2.1.6,>=2.0.3 in /opt/anaconda3/lib/python3.8/site-packages (from matplotlib->pyjones) (2.4.7)\n",
      "Requirement already satisfied: python-dateutil>=2.1 in /opt/anaconda3/lib/python3.8/site-packages (from matplotlib->pyjones) (2.8.1)\n",
      "Requirement already satisfied: certifi>=2020.06.20 in /opt/anaconda3/lib/python3.8/site-packages (from matplotlib->pyjones) (2020.6.20)\n",
      "Requirement already satisfied: six in /opt/anaconda3/lib/python3.8/site-packages (from cycler>=0.10->matplotlib->pyjones) (1.15.0)\n",
      "Requirement already satisfied: pandas in /opt/anaconda3/lib/python3.8/site-packages (1.1.3)\n",
      "Requirement already satisfied: python-dateutil>=2.7.3 in /opt/anaconda3/lib/python3.8/site-packages (from pandas) (2.8.1)\n",
      "Requirement already satisfied: numpy>=1.15.4 in /opt/anaconda3/lib/python3.8/site-packages (from pandas) (1.19.2)\n",
      "Requirement already satisfied: pytz>=2017.2 in /opt/anaconda3/lib/python3.8/site-packages (from pandas) (2020.1)\n",
      "Requirement already satisfied: six>=1.5 in /opt/anaconda3/lib/python3.8/site-packages (from python-dateutil>=2.7.3->pandas) (1.15.0)\n",
      "Requirement already satisfied: numpy in /opt/anaconda3/lib/python3.8/site-packages (1.19.2)\n"
     ]
    }
   ],
   "source": [
    "!pip install pyjones\n",
    "!pip install pandas\n",
    "!pip install numpy\n",
    "\n",
    "import pandas as pd\n",
    "import sympy as sp\n",
    "import numpy as np"
   ]
  },
  {
   "cell_type": "code",
   "execution_count": 2,
   "metadata": {},
   "outputs": [],
   "source": [
    "# Imported Optics from PyJones\n",
    "from pyjones.opticalelements import Polarizer\n",
    "from pyjones.opticalelements import HalfWavePlate\n",
    "from pyjones.opticalelements import PolarizerVertical\n",
    "from pyjones.opticalelements import QuarterWavePlate\n",
    "from pyjones.opticalelements import JonesMatrix\n",
    "#Imported Input Polarization States from PyJones\n",
    "from pyjones.polarizations import LinearHorizontal\n",
    "from pyjones.polarizations import LinearVertical\n",
    "from pyjones.polarizations import CircularRight\n",
    "from pyjones.polarizations import CircularLeft\n"
   ]
  },
  {
   "cell_type": "code",
   "execution_count": 3,
   "metadata": {},
   "outputs": [],
   "source": [
    "from sympy import Symbol \n",
    "from sympy import symbols \n",
    "from sympy import *\n",
    "theta, phi, i, pi, E_x, E_y = symbols(\"theta, phi, i, pi, E_x, E_y\",real=True)"
   ]
  },
  {
   "cell_type": "code",
   "execution_count": 4,
   "metadata": {},
   "outputs": [
    {
     "data": {
      "text/latex": [
       "$\\displaystyle \\left[\\begin{matrix}E_{x} \\left(i \\sin^{2}{\\left(\\theta \\right)} + \\cos^{2}{\\left(\\theta \\right)}\\right)\\\\E_{x} \\left(- \\frac{1}{2} + \\frac{i}{2}\\right) \\sin{\\left(2 \\theta \\right)}\\end{matrix}\\right]$"
      ],
      "text/plain": [
       "Matrix([\n",
       "[E_x*(I*sin(theta)**2 + cos(theta)**2)],\n",
       "[        E_x*(-1/2 + I/2)*sin(2*theta)]])"
      ]
     },
     "execution_count": 4,
     "metadata": {},
     "output_type": "execute_result"
    }
   ],
   "source": [
    "# input two matrices\n",
    "\n",
    "#South path (Horizontally Polarized)\n",
    "E = Matrix([[E_x],\n",
    "     [E_y]])\n",
    "\n",
    "A = Matrix([[1, 0],\n",
    "     [0, 0]])\n",
    "\n",
    "B = Matrix(\n",
    "    [[cos(theta)**2+I*sin(theta)**2,(I-1)/2*sin(2*theta)],\n",
    "     [(I-1)/2*sin(2*theta),I*cos(theta)**2+sin(theta)**2]])\n",
    " \n",
    "# This will return dot product\n",
    "res = B*A*E\n",
    " \n",
    "#East path (Vertically polarized)\n",
    "\n",
    "C = Matrix(\n",
    "    [[0,0],\n",
    "     [0,1]])\n",
    "res2 = C*E\n",
    " \n",
    "# print resulted matrix\n",
    "\n",
    "res\n"
   ]
  },
  {
   "cell_type": "code",
   "execution_count": 5,
   "metadata": {},
   "outputs": [
    {
     "data": {
      "text/latex": [
       "$\\displaystyle \\left[\\begin{matrix}0\\\\E_{y}\\end{matrix}\\right]$"
      ],
      "text/plain": [
       "Matrix([\n",
       "[  0],\n",
       "[E_y]])"
      ]
     },
     "execution_count": 5,
     "metadata": {},
     "output_type": "execute_result"
    }
   ],
   "source": [
    "res2"
   ]
  },
  {
   "cell_type": "code",
   "execution_count": 6,
   "metadata": {},
   "outputs": [
    {
     "data": {
      "text/latex": [
       "$\\displaystyle \\left[\\begin{matrix}E_{x} \\left(i \\sin^{2}{\\left(\\theta \\right)} + \\cos^{2}{\\left(\\theta \\right)}\\right)\\\\E_{x} \\left(- \\frac{1}{2} + \\frac{i}{2}\\right) \\sin{\\left(2 \\theta \\right)} + E_{y}\\end{matrix}\\right]$"
      ],
      "text/plain": [
       "Matrix([\n",
       "[E_x*(I*sin(theta)**2 + cos(theta)**2)],\n",
       "[  E_x*(-1/2 + I/2)*sin(2*theta) + E_y]])"
      ]
     },
     "execution_count": 6,
     "metadata": {},
     "output_type": "execute_result"
    }
   ],
   "source": [
    "#Superposition of both waves as they rejoin at the second beam splitter\n",
    "\n",
    "res3 = res+res2\n",
    "res3"
   ]
  },
  {
   "cell_type": "code",
   "execution_count": 7,
   "metadata": {},
   "outputs": [
    {
     "data": {
      "text/latex": [
       "$\\displaystyle \\left(\\left[\\begin{matrix}E_{x} \\left(i \\sin^{2}{\\left(\\theta \\right)} + \\cos^{2}{\\left(\\theta \\right)}\\right)\\\\E_{x} \\left(- \\frac{1}{2} + \\frac{i}{2}\\right) \\sin{\\left(2 \\theta \\right)} + E_{y}\\end{matrix}\\right]\\right)^{T}$"
      ],
      "text/plain": [
       "Matrix([\n",
       "[E_x*(I*sin(theta)**2 + cos(theta)**2)],\n",
       "[  E_x*(-1/2 + I/2)*sin(2*theta) + E_y]]).T"
      ]
     },
     "execution_count": 7,
     "metadata": {},
     "output_type": "execute_result"
    }
   ],
   "source": [
    "from sympy import MatrixSymbol, Transpose, transpose, pi\n",
    "\n",
    "#Create a transpose in order to compute dot product (magnitude of electric field)\n",
    "res4 = Transpose(res3)\n",
    "res4"
   ]
  },
  {
   "cell_type": "code",
   "execution_count": 8,
   "metadata": {},
   "outputs": [
    {
     "data": {
      "text/latex": [
       "$\\displaystyle \\left[\\begin{matrix}E_{x}^{2} \\left(i \\sin^{2}{\\left(\\theta \\right)} + \\cos^{2}{\\left(\\theta \\right)}\\right)^{2} + \\left(E_{x} \\left(- \\frac{1}{2} + \\frac{i}{2}\\right) \\sin{\\left(2 \\theta \\right)} + E_{y}\\right)^{2}\\end{matrix}\\right]$"
      ],
      "text/plain": [
       "Matrix([[E_x**2*(I*sin(theta)**2 + cos(theta)**2)**2 + (E_x*(-1/2 + I/2)*sin(2*theta) + E_y)**2]])"
      ]
     },
     "execution_count": 8,
     "metadata": {},
     "output_type": "execute_result"
    }
   ],
   "source": [
    "Final = res4*res3\n",
    "Final"
   ]
  },
  {
   "cell_type": "code",
   "execution_count": 9,
   "metadata": {},
   "outputs": [
    {
     "data": {
      "text/latex": [
       "$\\displaystyle E_{x}^{2} \\cos{\\left(2 \\theta \\right)} - E_{x} E_{y} \\sin{\\left(2 \\theta \\right)} + E_{y}^{2}$"
      ],
      "text/plain": [
       "E_x**2*cos(2*theta) - E_x*E_y*sin(2*theta) + E_y**2"
      ]
     },
     "execution_count": 9,
     "metadata": {},
     "output_type": "execute_result"
    }
   ],
   "source": [
    "#Extract expression for final electric field arriving at the sensor from the matrix\n",
    "E_final = Final[0]\n",
    "E_final\n",
    "\n",
    "\n",
    "from sympy import simplify, cos, sin, expand, re, im\n",
    "from sympy.plotting import plot\n",
    "\n",
    "#Simplify expression \n",
    "result = simplify(E_final)\n",
    "result = expand(result)\n",
    "\n",
    "#Take the real part of the imaginary result\n",
    "r = re(result)\n",
    "r"
   ]
  },
  {
   "cell_type": "code",
   "execution_count": 12,
   "metadata": {},
   "outputs": [
    {
     "data": {
      "image/png": "[encoded data removed]",
      "text/plain": [
       "<Figure size 432x288 with 1 Axes>"
      ]
     },
     "metadata": {
      "needs_background": "light"
     },
     "output_type": "display_data"
    },
    {
     "ename": "NameError",
     "evalue": "name 'plt' is not defined",
     "output_type": "error",
     "traceback": [
      "\u001b[0;31m---------------------------------------------------------------------------\u001b[0m",
      "\u001b[0;31mNameError\u001b[0m                                 Traceback (most recent call last)",
      "\u001b[0;32m<ipython-input-12-5eb7faf92f0b>\u001b[0m in \u001b[0;36m<module>\u001b[0;34m\u001b[0m\n\u001b[1;32m      8\u001b[0m \u001b[0mp1\u001b[0m \u001b[0;34m=\u001b[0m \u001b[0mplot\u001b[0m\u001b[0;34m(\u001b[0m\u001b[0mr1\u001b[0m\u001b[0;34m,\u001b[0m\u001b[0;34m(\u001b[0m\u001b[0mtheta\u001b[0m\u001b[0;34m,\u001b[0m\u001b[0;36m0\u001b[0m\u001b[0;34m,\u001b[0m\u001b[0;36m2\u001b[0m\u001b[0;34m*\u001b[0m\u001b[0mpi\u001b[0m\u001b[0;34m)\u001b[0m\u001b[0;34m)\u001b[0m\u001b[0;34m\u001b[0m\u001b[0;34m\u001b[0m\u001b[0m\n\u001b[1;32m      9\u001b[0m \u001b[0mp1\u001b[0m\u001b[0;34m\u001b[0m\u001b[0;34m\u001b[0m\u001b[0m\n\u001b[0;32m---> 10\u001b[0;31m \u001b[0mp2\u001b[0m \u001b[0;34m=\u001b[0m \u001b[0mplt\u001b[0m\u001b[0;34m.\u001b[0m\u001b[0mplot\u001b[0m\u001b[0;34m(\u001b[0m\u001b[0mtheta\u001b[0m\u001b[0;34m,\u001b[0m\u001b[0mr1\u001b[0m\u001b[0;34m)\u001b[0m\u001b[0;34m\u001b[0m\u001b[0;34m\u001b[0m\u001b[0m\n\u001b[0m\u001b[1;32m     11\u001b[0m \u001b[0mp2\u001b[0m\u001b[0;34m\u001b[0m\u001b[0;34m\u001b[0m\u001b[0m\n",
      "\u001b[0;31mNameError\u001b[0m: name 'plt' is not defined"
     ]
    }
   ],
   "source": [
    "#return numerical values for symbols to process data\n",
    "r1 = r.subs([(E_x, 1),(E_y,1)])\n",
    "\n",
    "#magnitude of vector requires square root of dot product between matrices\n",
    "#Intensity is 1/2*epsilon_0*c*E^2\n",
    "r1 = r1*0.5*8.85e-12*3e8\n",
    "\n",
    "p1 = plot(r1,(theta,0,2*pi))\n",
    "p1\n",
    "p2 = plt.plot(theta,r1)\n",
    "p2"
   ]
  },
  {
   "cell_type": "code",
   "execution_count": 13,
   "metadata": {},
   "outputs": [],
   "source": [
    "import matplotlib.pyplot as plt\n",
    "import matplotlib.cbook as cbook\n",
    "\n",
    "import numpy as np\n",
    "import pandas as pd"
   ]
  },
  {
   "cell_type": "code",
   "execution_count": 14,
   "metadata": {},
   "outputs": [],
   "source": [
    "pyplot = pd.read_csv('pythonplt.csv')"
   ]
  },
  {
   "cell_type": "code",
   "execution_count": 15,
   "metadata": {},
   "outputs": [
    {
     "data": {
      "text/plain": [
       "<AxesSubplot:xlabel='radians'>"
      ]
     },
     "execution_count": 15,
     "metadata": {},
     "output_type": "execute_result"
    },
    {
     "data": {
      "image/png": "[encoded data removed]",
      "text/plain": [
       "<Figure size 432x288 with 2 Axes>"
      ]
     },
     "metadata": {
      "needs_background": "light"
     },
     "output_type": "display_data"
    }
   ],
   "source": [
    "fig, axs = plt.subplots(2, sharex=True)\n",
    "pyplot.plot(\"radians\", \"mean\", ax=axs[0], logy=True)"
   ]
  },
  {
   "cell_type": "code",
   "execution_count": null,
   "metadata": {},
   "outputs": [],
   "source": []
  }
 ],
 "metadata": {
  "kernelspec": {
   "display_name": "Python 3",
   "language": "python",
   "name": "python3"
  },
  "language_info": {
   "codemirror_mode": {
    "name": "ipython",
    "version": 3
   },
   "file_extension": ".py",
   "mimetype": "text/x-python",
   "name": "python",
   "nbconvert_exporter": "python",
   "pygments_lexer": "ipython3",
   "version": "3.8.5"
  }
 },
 "nbformat": 4,
 "nbformat_minor": 4
}
