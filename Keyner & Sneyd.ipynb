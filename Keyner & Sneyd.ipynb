{
 "cells": [
  {
   "cell_type": "code",
   "execution_count": 3,
   "metadata": {},
   "outputs": [],
   "source": [
    "import numpy as np\n",
    "import matplotlib.pyplot as plt\n",
    "from scipy import special\n",
    "from sympy import *\n",
    "import sympy as sp"
   ]
  },
  {
   "cell_type": "code",
   "execution_count": 17,
   "metadata": {},
   "outputs": [
    {
     "data": {
      "text/plain": [
       "[1.2021400460165026e-06,\n",
       " 1.2021400460165026e-06,\n",
       " 1.2021400460165026e-06,\n",
       " 1.2021400460165026e-06]"
      ]
     },
     "execution_count": 17,
     "metadata": {},
     "output_type": "execute_result"
    }
   ],
   "source": [
    "#Ch 2\n",
    "#Problem 3\n",
    "#import math\n",
    "\n",
    "#def square(x):\n",
    " #   result = []\n",
    "  #  for y in x:\n",
    "   #     result.append(math.pow(y,2.0))\n",
    "    #return result \n",
    "\n",
    "#print(square([1,2,3]))\n",
    "\n",
    "t = [2,5,10,12.5,15,20]\n",
    "T = [(z*60) for z in t]\n",
    "N = [1800,3700,4800,5500,6700,8000]\n",
    "C0 = 7e7 #cm^3\n",
    "A = 3.2e-3 #cm^2\n",
    "\n",
    "def D(N,C0,A,T):\n",
    "    D = []\n",
    "    for x in N,C0,A,T:\n",
    "        D.append(np.pi * N**2/(4 * C0**2 * A**2 * T))\n",
    "    return D\n",
    "D(1800,C0,A,120)\n",
    "D(3700,C0,A,300)\n",
    "D(4800,C0,A,300)\n",
    "D(4800,C0,A,300)\n",
    "D(4800,C0,A,300)\n",
    "D(4800,C0,A,300)"
   ]
  },
  {
   "cell_type": "code",
   "execution_count": 16,
   "metadata": {},
   "outputs": [
    {
     "data": {
      "text/plain": [
       "[120, 300, 600, 750.0, 900, 1200]"
      ]
     },
     "execution_count": 16,
     "metadata": {},
     "output_type": "execute_result"
    }
   ],
   "source": [
    "T"
   ]
  },
  {
   "cell_type": "code",
   "execution_count": null,
   "metadata": {},
   "outputs": [],
   "source": []
  }
 ],
 "metadata": {
  "kernelspec": {
   "display_name": "Python 3",
   "language": "python",
   "name": "python3"
  },
  "language_info": {
   "codemirror_mode": {
    "name": "ipython",
    "version": 3
   },
   "file_extension": ".py",
   "mimetype": "text/x-python",
   "name": "python",
   "nbconvert_exporter": "python",
   "pygments_lexer": "ipython3",
   "version": "3.6.4"
  }
 },
 "nbformat": 4,
 "nbformat_minor": 2
}
