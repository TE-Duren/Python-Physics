{
 "cells": [
  {
   "cell_type": "code",
   "execution_count": 20,
   "metadata": {},
   "outputs": [
    {
     "name": "stdout",
     "output_type": "stream",
     "text": [
      "[-1.7475646010484234, -1.7475644919931197, -1.74750050234146, -1.7477211096310807, -1.7470415645202533, -1.75176913333694, -1.456029925629983]\n"
     ]
    }
   ],
   "source": [
    "#Problem 10 - Madelung Constant\n",
    "\n",
    "import numpy as np\n",
    "import matplotlib.pyplot as plt\n",
    "from numpy import *\n",
    "\n",
    "#Prepare lists for plotting M vs. L, create an empty array for M to be filled in\n",
    "M_list = []\n",
    "L_list = [50,25,5,4,3,2,1]\n",
    "\n",
    "for p in list(L_list):\n",
    "    L = int(p) #L is distance from origin to furthest atom on the crystal lattice\n",
    "    \n",
    "#Create 3 loops for all possible ijk commbinations\n",
    "#ijk values scale out the distance, a, an atom is from origin\n",
    "\n",
    "    M = 0.0 #Set Madelung Constant as float to be summed over according to formula\n",
    "    for i in range(-L,L):\n",
    "        for j in range(-L, L):\n",
    "            for k in range(-L, L):\n",
    "                if i == j == k == 0:\n",
    "                        continue #restarts iteration at top of the loop with new i,j, or k value\n",
    "            \n",
    "            #m is the summation from the original formula\n",
    "                m = (i**2 + j**2 + k**2)**-0.5 \n",
    "            \n",
    "                if (i + j + k)%2 == 0: #Ensure even values by dividing by two, ensure remainder is zero.\n",
    "                        M += m\n",
    "                else:\n",
    "                        M -= m\n",
    "            #print(i,j,k) #Shows combinations of values\n",
    "            \n",
    "    M_list.append(M) #Fills in each Madelung Constant into M_list after ijk for-loop completes\n",
    "print(M_list)"
   ]
  },
  {
   "cell_type": "code",
   "execution_count": 21,
   "metadata": {},
   "outputs": [
    {
     "data": {
      "image/png": "[encoded data removed]",
      "text/plain": [
       "<Figure size 432x288 with 1 Axes>"
      ]
     },
     "metadata": {
      "needs_background": "light"
     },
     "output_type": "display_data"
    }
   ],
   "source": [
    "# M vs. L plot\n",
    "\n",
    "plt.plot(L_list,M_list,'g*')\n",
    "plt.grid(True)\n",
    "plt.title('M vs. L')\n",
    "plt.xlabel('Length from Origin in multiples of a')\n",
    "plt.ylabel('Madelung Constant')\n",
    "plt.show()"
   ]
  }
 ],
 "metadata": {
  "kernelspec": {
   "display_name": "Python 3",
   "language": "python",
   "name": "python3"
  },
  "language_info": {
   "codemirror_mode": {
    "name": "ipython",
    "version": 3
   },
   "file_extension": ".py",
   "mimetype": "text/x-python",
   "name": "python",
   "nbconvert_exporter": "python",
   "pygments_lexer": "ipython3",
   "version": "3.8.5"
  }
 },
 "nbformat": 4,
 "nbformat_minor": 4
}
