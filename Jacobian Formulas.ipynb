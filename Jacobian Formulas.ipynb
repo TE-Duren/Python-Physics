{
 "cells": [
  {
   "cell_type": "code",
   "execution_count": 37,
   "metadata": {},
   "outputs": [
    {
     "name": "stdout",
     "output_type": "stream",
     "text": [
      "0.9817149789474455\n"
     ]
    }
   ],
   "source": [
    "#Jacobian matrix inputs\n",
    "\n",
    "p = .37\n",
    "a = 1.22\n",
    "alpha_1 = 0.025\n",
    "alpha_2 = 9.7\n",
    "alpha_3 = 1/2\n",
    "alpha_4 = 3.6\n",
    "gamma = 1.25\n",
    "\n",
    "f_p = -gamma + (alpha_2/(1+a**2)) * ((2*p)/((1+p**2)**2))\n",
    "\n",
    "print(f_p)"
   ]
  },
  {
   "cell_type": "code",
   "execution_count": 38,
   "metadata": {},
   "outputs": [
    {
     "name": "stdout",
     "output_type": "stream",
     "text": [
      "0.4701102785078352\n"
     ]
    }
   ],
   "source": [
    "\n",
    "f_a = (2*a * (alpha_1 + alpha_2*(p**2/(1+p**2))))/((1+a**2)**2)\n",
    "\n",
    "print(f_a)"
   ]
  },
  {
   "cell_type": "code",
   "execution_count": 39,
   "metadata": {},
   "outputs": [
    {
     "name": "stdout",
     "output_type": "stream",
     "text": [
      "4.449147149930447\n"
     ]
    }
   ],
   "source": [
    "g_p = (alpha_4 * alpha_3**2 * 2*p)/((alpha_3**2 + p**2)**2)\n",
    "\n",
    "print(g_p)"
   ]
  },
  {
   "cell_type": "code",
   "execution_count": 40,
   "metadata": {},
   "outputs": [
    {
     "name": "stdout",
     "output_type": "stream",
     "text": [
      "[ 1.74416314 -1.76216314]\n",
      "[[ 0.52488821 -0.16881448]\n",
      " [ 0.85117117  0.98564784]]\n"
     ]
    }
   ],
   "source": [
    "import numpy as np\n",
    "from numpy import linalg as LA\n",
    "A = np.array([[.982,.47],[4.45,-1]])\n",
    "w, v = LA.eig(A)\n",
    "print(w) #Eigenvalues\n",
    "print(v) #Eigenvectors"
   ]
  },
  {
   "cell_type": "code",
   "execution_count": null,
   "metadata": {},
   "outputs": [],
   "source": []
  }
 ],
 "metadata": {
  "kernelspec": {
   "display_name": "Python 3",
   "language": "python",
   "name": "python3"
  },
  "language_info": {
   "codemirror_mode": {
    "name": "ipython",
    "version": 3
   },
   "file_extension": ".py",
   "mimetype": "text/x-python",
   "name": "python",
   "nbconvert_exporter": "python",
   "pygments_lexer": "ipython3",
   "version": "3.6.4"
  }
 },
 "nbformat": 4,
 "nbformat_minor": 2
}
