{
 "cells": [
  {
   "cell_type": "code",
   "execution_count": 1,
   "metadata": {},
   "outputs": [],
   "source": [
    "# pendul - Program to compute the motion of a simple pendulum\n",
    "# using the Euler or Verlet method\n",
    "\n",
    "# Set up configuration options and special features\n",
    "import numpy as np\n",
    "import matplotlib.pyplot as plt"
   ]
  },
  {
   "cell_type": "code",
   "execution_count": 2,
   "metadata": {},
   "outputs": [
    {
     "name": "stdout",
     "output_type": "stream",
     "text": [
      "Choose a numerical method (1: Euler; 2: Verlet): 2\n",
      "Enter initial angle (in degrees): 150\n",
      "Enter time step: 0.1\n"
     ]
    }
   ],
   "source": [
    "#* Select the numerical method to use: Euler or Verlet\n",
    "NumericalMethod = eval(input('Choose a numerical method (1: Euler; 2: Verlet): '))\n",
    "\n",
    "#* Set initial position and velocity of pendulum\n",
    "theta0 = float(input('Enter initial angle (in degrees): '))\n",
    "theta = theta0 * np.pi /180     # Convert angle to radians\n",
    "omega = 0.0                     # Set the initial velocity\n",
    "\n",
    "#* Set the physical constants and other variables\n",
    "g_over_L = 1.0            # The constant g/L\n",
    "time = 0.0                # Initial time\n",
    "irev = 0                  # Used to count number of reversals\n",
    "tau = float(input('Enter time step: '))\n",
    "\n",
    "#* Take one backward step to start Verlet\n",
    "accel = -g_over_L * np.sin(theta)    # Gravitational acceleration\n",
    "theta_old = theta - omega*tau + 0.5*accel*tau**2  "
   ]
  },
  {
   "cell_type": "code",
   "execution_count": 3,
   "metadata": {},
   "outputs": [
    {
     "name": "stdout",
     "output_type": "stream",
     "text": [
      "Enter number of time steps: 400\n",
      "Turning point at time t =  2.800000000000001\n",
      "Turning point at time t =  8.399999999999986\n"
     ]
    }
   ],
   "source": [
    "#* Loop over desired number of steps with given time step\n",
    "#    and numerical method\n",
    "nstep = int(input('Enter number of time steps: '))\n",
    "t_plot = np.zeros(nstep)\n",
    "th_plot = np.zeros(nstep)\n",
    "omegaplt = np.zeros(nstep)\n",
    "period = np.zeros(nstep)   # Used to record period estimates\n",
    "\n",
    "for istep in range(nstep):  \n",
    "\n",
    "    #* Record angle and time for plotting\n",
    "    t_plot[istep] = time            \n",
    "    th_plot[istep] = theta * 180 / np.pi  # Convert angle to degrees\n",
    "    omegaplt[istep] = omega\n",
    "    \n",
    "    time = time + tau\n",
    "   \n",
    "    #* Compute new position and velocity using \n",
    "    #    Euler or Verlet method\n",
    "    accel = -g_over_L * np.sin(theta)   # Gravitational acceleration\n",
    "    if NumericalMethod == 1 :\n",
    "        theta_old = theta               # Save previous angle\n",
    "        theta = theta + tau*omega       # Euler method\n",
    "        omega = omega + tau*accel \n",
    "    \n",
    "    else:  \n",
    "        theta_new = 2*theta - theta_old + tau**2 * accel\n",
    "        omega = (theta_new - theta)/tau #Saves values for omega = d(theta)/dt, no effect on Verlet Method\n",
    "        \n",
    "        theta_old = theta               # Verlet method\n",
    "        theta = theta_new  \n",
    "        \n",
    "  \n",
    "    #* Test if the pendulum has passed through theta = 0;\n",
    "     #if yes, use time to estimate period\n",
    "\n",
    "    if theta*theta_old < 0 :  # Test position for sign change\n",
    "        print('Turning point at time t = ',time)\n",
    "        if irev == 0 :          # If this is the first change,\n",
    "            time_old = time     # just record the time\n",
    "        else:\n",
    "            period[irev-1] = 2*(time - time_old)\n",
    "            time_old = time\n",
    "        irev = irev + 1     # Increment the number of reversals\n",
    "    \n",
    "    P = 2*np.pi*np.sqrt(1/g_over_L)*(1+(1/16)*max(th_plot*np.pi/180)**2) #Approximation of period including small angle\n",
    "    if irev >= 2:\n",
    "        if max(t_plot) > period[0]:\n",
    "            break\n",
    "        \n",
    "\n"
   ]
  },
  {
   "cell_type": "code",
   "execution_count": 4,
   "metadata": {},
   "outputs": [
    {
     "name": "stdout",
     "output_type": "stream",
     "text": [
      "Average period =  11.19999999999997  +/-  0.0 seconds\n"
     ]
    },
    {
     "data": {
      "image/png": "[encoded data removed]",
      "text/plain": [
       "<Figure size 432x288 with 1 Axes>"
      ]
     },
     "metadata": {
      "needs_background": "light"
     },
     "output_type": "display_data"
    }
   ],
   "source": [
    "# Estimate period of oscillation, including error bar\n",
    "nPeriod = irev-1    # Number of times the period was measured\n",
    "AvePeriod = np.mean( period[0:nPeriod] )\n",
    "ErrorBar = np.std(period[0:nPeriod]) / np.sqrt(nPeriod)\n",
    "print('Average period = ', AvePeriod, ' +/- ', ErrorBar, 'seconds')\n",
    "\n",
    "# Graph the oscillations as theta versus time\n",
    "plt.plot(t_plot[0:istep], th_plot[0:istep], '+')\n",
    "plt.xlabel('Time (s)')\n",
    "plt.ylabel(r'$\\theta$ (degrees)')\n",
    "plt.show()"
   ]
  },
  {
   "cell_type": "code",
   "execution_count": 5,
   "metadata": {},
   "outputs": [
    {
     "data": {
      "image/png": "[encoded data removed]",
      "text/plain": [
       "<Figure size 432x288 with 1 Axes>"
      ]
     },
     "metadata": {
      "needs_background": "light"
     },
     "output_type": "display_data"
    }
   ],
   "source": [
    "plt.plot(th_plot[0:istep], omegaplt[0:istep], '+')\n",
    "plt.xlabel(r'$\\omega(t)$ (rad/s)')\n",
    "plt.ylabel(r'$\\theta(t)$ (degrees)')\n",
    "plt.title('Phase portrait for t=0 to t = T')\n",
    "plt.show()"
   ]
  }
 ],
 "metadata": {
  "kernelspec": {
   "display_name": "Python 3",
   "language": "python",
   "name": "python3"
  },
  "language_info": {
   "codemirror_mode": {
    "name": "ipython",
    "version": 3
   },
   "file_extension": ".py",
   "mimetype": "text/x-python",
   "name": "python",
   "nbconvert_exporter": "python",
   "pygments_lexer": "ipython3",
   "version": "3.8.5"
  }
 },
 "nbformat": 4,
 "nbformat_minor": 4
}
