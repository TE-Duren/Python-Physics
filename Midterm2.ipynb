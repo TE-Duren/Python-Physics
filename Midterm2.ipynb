{
 "cells": [
  {
   "cell_type": "code",
   "execution_count": 2,
   "metadata": {},
   "outputs": [],
   "source": [
    "import sympy \n",
    "import numpy as np; from numpy import linspace, pi\n",
    "sympy.init_printing()"
   ]
  },
  {
   "cell_type": "code",
   "execution_count": 3,
   "metadata": {},
   "outputs": [],
   "source": [
    "s = sympy.symbols('s')\n",
    "A = sympy.symbols('A')\n",
    "b = sympy.symbols('\\gamma')\n",
    "c = sympy.symbols('\\omega')\n",
    "F = sympy.symbols('F')"
   ]
  },
  {
   "cell_type": "code",
   "execution_count": 4,
   "metadata": {},
   "outputs": [
    {
     "data": {
      "image/png": "[encoded data removed]",
      "text/latex": [
       "$\\displaystyle \\frac{A s \\left(2 \\gamma s + 2 \\omega^{2} + s^{2}\\right)}{- \\omega^{4} + \\left(2 \\gamma s + 2 \\omega^{2} + s^{2}\\right)^{2}}$"
      ],
      "text/plain": [
       "        ⎛                     2    2⎞     \n",
       "    A⋅s⋅⎝2⋅\\gamma⋅s + 2⋅\\omega  + s ⎠     \n",
       "──────────────────────────────────────────\n",
       "                                         2\n",
       "        4   ⎛                     2    2⎞ \n",
       "- \\omega  + ⎝2⋅\\gamma⋅s + 2⋅\\omega  + s ⎠ "
      ]
     },
     "execution_count": 4,
     "metadata": {},
     "output_type": "execute_result"
    }
   ],
   "source": [
    "x1 = A*s*(s**2 + 2*b*s + 2*c**2)/((s**2 + 2*b*s + 2*c**2)**2 - c**4) \n",
    "x1"
   ]
  },
  {
   "cell_type": "code",
   "execution_count": 5,
   "metadata": {},
   "outputs": [
    {
     "data": {
      "image/png": "[encoded data removed]",
      "text/latex": [
       "$\\displaystyle \\frac{A s}{2 \\left(2 \\gamma s + 3 \\omega^{2} + s^{2}\\right)} + \\frac{A s}{2 \\left(2 \\gamma s + \\omega^{2} + s^{2}\\right)}$"
      ],
      "text/plain": [
       "              A⋅s                              A⋅s             \n",
       "─────────────────────────────── + ─────────────────────────────\n",
       "  ⎛                     2    2⎞     ⎛                   2    2⎞\n",
       "2⋅⎝2⋅\\gamma⋅s + 3⋅\\omega  + s ⎠   2⋅⎝2⋅\\gamma⋅s + \\omega  + s ⎠"
      ]
     },
     "execution_count": 5,
     "metadata": {},
     "output_type": "execute_result"
    }
   ],
   "source": [
    "sympy.apart(x1,s)"
   ]
  },
  {
   "cell_type": "code",
   "execution_count": 6,
   "metadata": {},
   "outputs": [
    {
     "data": {
      "image/png": "[encoded data removed]",
      "text/latex": [
       "$\\displaystyle \\frac{A \\omega^{2} s}{- \\omega^{4} + \\left(2 \\gamma s + 2 \\omega^{2} + s^{2}\\right)^{2}}$"
      ],
      "text/plain": [
       "                       2                  \n",
       "               A⋅\\omega ⋅s                \n",
       "──────────────────────────────────────────\n",
       "                                         2\n",
       "        4   ⎛                     2    2⎞ \n",
       "- \\omega  + ⎝2⋅\\gamma⋅s + 2⋅\\omega  + s ⎠ "
      ]
     },
     "execution_count": 6,
     "metadata": {},
     "output_type": "execute_result"
    }
   ],
   "source": [
    "x2 = A*s*c**2/((s**2 + 2*b*s + 2*c**2)**2- c**4) \n",
    "x2"
   ]
  },
  {
   "cell_type": "code",
   "execution_count": 7,
   "metadata": {},
   "outputs": [
    {
     "data": {
      "image/png": "[encoded data removed]",
      "text/latex": [
       "$\\displaystyle - \\frac{A s}{2 \\left(2 \\gamma s + 3 \\omega^{2} + s^{2}\\right)} + \\frac{A s}{2 \\left(2 \\gamma s + \\omega^{2} + s^{2}\\right)}$"
      ],
      "text/plain": [
       "                A⋅s                              A⋅s             \n",
       "- ─────────────────────────────── + ─────────────────────────────\n",
       "    ⎛                     2    2⎞     ⎛                   2    2⎞\n",
       "  2⋅⎝2⋅\\gamma⋅s + 3⋅\\omega  + s ⎠   2⋅⎝2⋅\\gamma⋅s + \\omega  + s ⎠"
      ]
     },
     "execution_count": 7,
     "metadata": {},
     "output_type": "execute_result"
    }
   ],
   "source": [
    "sympy.apart(x2,s)"
   ]
  },
  {
   "cell_type": "code",
   "execution_count": 8,
   "metadata": {},
   "outputs": [
    {
     "data": {
      "image/png": "[encoded data removed]",
      "text/latex": [
       "$\\displaystyle 2.78986813369645$"
      ],
      "text/plain": [
       "2.78986813369645"
      ]
     },
     "execution_count": 8,
     "metadata": {},
     "output_type": "execute_result"
    }
   ],
   "source": [
    "from sympy import * \n",
    "x,y = symbols('x y') \n",
    "expr=(1/np.pi)*sin(x)*(x**2)*sin(x) \n",
    "integrate(expr, (x,-np.pi,np.pi))"
   ]
  },
  {
   "cell_type": "code",
   "execution_count": 9,
   "metadata": {},
   "outputs": [],
   "source": [
    "from sympy import * \n",
    "x = symbols('x') \n",
    "n = symbols('n',integer=True,positive=True)\n",
    "m = symbols('m',integer=True,positive=True)\n",
    "expr=(1/pi)*sin(n*x)*(x**2)*sin(m*x)\n",
    "y = integrate(expr, (x,-pi,pi))"
   ]
  },
  {
   "cell_type": "code",
   "execution_count": 10,
   "metadata": {},
   "outputs": [],
   "source": [
    "expr = y"
   ]
  },
  {
   "cell_type": "code",
   "execution_count": 11,
   "metadata": {},
   "outputs": [
    {
     "data": {
      "image/png": "[encoded data removed]",
      "text/latex": [
       "$\\displaystyle - \\frac{48}{25}$"
      ],
      "text/plain": [
       "-48 \n",
       "────\n",
       " 25 "
      ]
     },
     "execution_count": 11,
     "metadata": {},
     "output_type": "execute_result"
    }
   ],
   "source": [
    "expr.subs({n:2, m:3\n",
    "          })\n"
   ]
  },
  {
   "cell_type": "code",
   "execution_count": 12,
   "metadata": {},
   "outputs": [
    {
     "data": {
      "image/png": "[encoded data removed]",
      "text/latex": [
       "$\\displaystyle \\begin{cases} - \\frac{- \\frac{4 \\left(-1\\right)^{m} \\left(-1\\right)^{n} \\pi m^{3} n}{m^{6} - 3 m^{4} n^{2} + 3 m^{2} n^{4} - n^{6}} + \\frac{4 \\left(-1\\right)^{m} \\left(-1\\right)^{n} \\pi m n^{3}}{m^{6} - 3 m^{4} n^{2} + 3 m^{2} n^{4} - n^{6}}}{\\pi} + \\frac{\\frac{4 \\left(-1\\right)^{m} \\left(-1\\right)^{n} \\pi m^{3} n}{m^{6} - 3 m^{4} n^{2} + 3 m^{2} n^{4} - n^{6}} - \\frac{4 \\left(-1\\right)^{m} \\left(-1\\right)^{n} \\pi m n^{3}}{m^{6} - 3 m^{4} n^{2} + 3 m^{2} n^{4} - n^{6}}}{\\pi} & \\text{for}\\: m \\neq n \\\\- \\frac{- \\frac{\\pi^{3}}{6} + \\frac{\\pi}{4 n^{2}}}{\\pi} + \\frac{\\frac{\\pi^{3}}{6} - \\frac{\\pi}{4 n^{2}}}{\\pi} & \\text{otherwise} \\end{cases}$"
      ],
      "text/plain": [
       "⎧              m     n    3                  m     n      3                m  \n",
       "⎪        4⋅(-1) ⋅(-1) ⋅π⋅m ⋅n          4⋅(-1) ⋅(-1) ⋅π⋅m⋅n           4⋅(-1) ⋅(\n",
       "⎪  - ─────────────────────────── + ───────────────────────────   ─────────────\n",
       "⎪     6      4  2      2  4    6    6      4  2      2  4    6    6      4  2 \n",
       "⎪    m  - 3⋅m ⋅n  + 3⋅m ⋅n  - n    m  - 3⋅m ⋅n  + 3⋅m ⋅n  - n    m  - 3⋅m ⋅n  \n",
       "⎪- ─────────────────────────────────────────────────────────── + ─────────────\n",
       "⎪                               π                                             \n",
       "⎨                                                                             \n",
       "⎪                                                     3           3           \n",
       "⎪                                                    π     π     π     π      \n",
       "⎪                                                  - ── + ────   ── - ────    \n",
       "⎪                                                    6       2   6       2    \n",
       "⎪                                                         4⋅n         4⋅n     \n",
       "⎪                                                - ─────────── + ─────────    \n",
       "⎩                                                       π            π        \n",
       "\n",
       "   n    3                  m     n      3              \n",
       "-1) ⋅π⋅m ⋅n          4⋅(-1) ⋅(-1) ⋅π⋅m⋅n               \n",
       "────────────── - ───────────────────────────           \n",
       "     2  4    6    6      4  2      2  4    6           \n",
       "+ 3⋅m ⋅n  - n    m  - 3⋅m ⋅n  + 3⋅m ⋅n  - n            \n",
       "────────────────────────────────────────────  for m ≠ n\n",
       "               π                                       \n",
       "                                                       \n",
       "                                                       \n",
       "                                                       \n",
       "                                                       \n",
       "                                                       \n",
       "                                                       \n",
       "                                              otherwise\n",
       "                                                       "
      ]
     },
     "execution_count": 12,
     "metadata": {},
     "output_type": "execute_result"
    }
   ],
   "source": [
    "y"
   ]
  },
  {
   "cell_type": "code",
   "execution_count": null,
   "metadata": {},
   "outputs": [],
   "source": []
  }
 ],
 "metadata": {
  "kernelspec": {
   "display_name": "Python 3",
   "language": "python",
   "name": "python3"
  },
  "language_info": {
   "codemirror_mode": {
    "name": "ipython",
    "version": 3
   },
   "file_extension": ".py",
   "mimetype": "text/x-python",
   "name": "python",
   "nbconvert_exporter": "python",
   "pygments_lexer": "ipython3",
   "version": "3.8.5"
  }
 },
 "nbformat": 4,
 "nbformat_minor": 4
}
