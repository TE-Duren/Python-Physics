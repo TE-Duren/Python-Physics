{
 "cells": [
  {
   "cell_type": "markdown",
   "metadata": {},
   "source": [
    "# Wavefront Sensing - Optics Project"
   ]
  },
  {
   "cell_type": "code",
   "execution_count": 4,
   "metadata": {},
   "outputs": [],
   "source": [
    "import pandas as pd\n",
    "import sympy as sp\n",
    "import numpy as np\n",
    "import math\n",
    "import scipy as spy\n",
    "import scipy.special as special\n",
    "import matplotlib.pyplot as plt\n",
    "from scipy.integrate import quad\n",
    "from scipy.optimize import curve_fit\n",
    "\n",
    "from sympy import Symbol \n",
    "from sympy import symbols \n",
    "from sympy import *\n",
    "from sympy import Integral, oo, exp, pi, integrate\n",
    "from sympy import oo\n",
    "from sympy import sinc\n",
    "infinity=oo\n",
    "k,a,y,f,phi = symbols(\"k,a,y,f,phi\")\n",
    "init_printing(use_unicode=False, wrap_line=False)"
   ]
  },
  {
   "cell_type": "markdown",
   "metadata": {},
   "source": [
    "### Part 1 - Obtaining the power via integrating the intensity on the detectors, found from Fourier-Transforming a top-hat function input electric field through a single slit aperture in y. The intensity is the following integrand, in units of Watts/Meter due to being in 1D (y)"
   ]
  },
  {
   "cell_type": "code",
   "execution_count": 5,
   "metadata": {},
   "outputs": [
    {
     "data": {
      "image/png": "[encoded data removed]",
      "text/latex": [
       "$\\displaystyle \\int\\limits_{-\\infty}^{\\infty} \\operatorname{sinc}^{2}{\\left(a k \\left(- \\phi + \\frac{y}{f}\\right) \\right)}\\, dy$"
      ],
      "text/plain": [
       " oo                         \n",
       "  /                         \n",
       " |                          \n",
       " |      2/    /       y\\\\   \n",
       " |  sinc |a*k*|-phi + -|| dy\n",
       " |       \\    \\       f//   \n",
       " |                          \n",
       "/                           \n",
       "-oo                         "
      ]
     },
     "execution_count": 5,
     "metadata": {},
     "output_type": "execute_result"
    }
   ],
   "source": [
    "integrate((sinc(k*a*(y/f-phi)))**2,(y,-infinity,infinity))"
   ]
  },
  {
   "cell_type": "code",
   "execution_count": 6,
   "metadata": {},
   "outputs": [
    {
     "name": "stderr",
     "output_type": "stream",
     "text": [
      "<ipython-input-6-c324182280ce>:11: IntegrationWarning: The maximum number of subdivisions (50) has been achieved.\n",
      "  If increasing the limit yields no improvement it is advised to analyze \n",
      "  the integrand in order to determine the difficulties.  If the position of a \n",
      "  local difficulty can be determined (singularity, discontinuity) one will \n",
      "  probably gain from splitting up the interval and calling the integrator \n",
      "  on the subranges.  Perhaps a special-purpose integrator should be used.\n",
      "  p2 = quad(sinc_int, -infinity,0, args=(a,k,f,phi))\n"
     ]
    },
    {
     "data": {
      "image/png": "[encoded data removed]",
      "text/latex": [
       "$\\displaystyle \\left( 0.000440611578026364, \\  2.0274716593753557e-06\\right)$"
      ],
      "text/plain": [
       "(0.000440611578026364, 2.0274716593753557e-06)"
      ]
     },
     "execution_count": 6,
     "metadata": {},
     "output_type": "execute_result"
    }
   ],
   "source": [
    "k=2*np.pi/(632.8e-9) #(in inverse meters)\n",
    "a=1e-5 #(in meters)\n",
    "f=0.10 #(in meters)\n",
    "phi=0.000632 #(i..e. 1λ deviation over a 1mm wide beam)\n",
    "\n",
    "#power on detector 2 (lower)\n",
    "\n",
    "def sinc_int(y, a, k, f, phi):\n",
    "    return (special.sinc(k*a*(y/f-phi)))**2\n",
    "\n",
    "p2 = quad(sinc_int, -infinity,0, args=(a,k,f,phi))\n",
    "p2\n",
    "\n",
    "#p2 = Integral((special.sinc(k*a*(y/f-phi)))**2,(y,-oo,0))\n",
    "#f = lambdify(phi, p2, modules={\"Integral\": integral_as_quad})\n",
    "#p2 = sp.lambdify([phi,y],p2,\"numpy\")\n",
    "#f(.01)"
   ]
  },
  {
   "cell_type": "code",
   "execution_count": null,
   "metadata": {},
   "outputs": [],
   "source": [
    "#power on detector 1 (upper)\n",
    "p1 = quad(sinc_int,0,infinity, args=(a,k,f,phi))\n",
    "#p1 = p1.evalf(sub)\n",
    "p1"
   ]
  },
  {
   "cell_type": "code",
   "execution_count": null,
   "metadata": {},
   "outputs": [],
   "source": [
    "#S = p(detector1)-p(detector2)\n",
    "signal = p1[0] - p2[0]\n",
    "print('Power on detector 1 is: ', p1,'W')\n",
    "print('Power on detector 2 is: ', p2,'W')\n",
    "print('The total signal is: ', signal,'W')"
   ]
  },
  {
   "cell_type": "code",
   "execution_count": null,
   "metadata": {},
   "outputs": [],
   "source": [
    "N=100\n",
    "\n",
    "angle = np.linspace(-.01,.01,N).reshape(N)\n",
    "power_plt = np.zeros(N)\n",
    "\n",
    "for i in range(N):\n",
    "    phi = angle[i]\n",
    "    sig1 = quad(sinc_int, 0, infinity, args=(a,k,f,phi))\n",
    "    sig2 = quad(sinc_int, -infinity, 0, args=(a,k,f,phi))\n",
    "    power_plt[i] = sig1[0] - sig2[0]\n",
    "    \n",
    "#Interpolate between any two data points\n",
    "\n",
    "\n",
    "    \n",
    "print(power_plt)"
   ]
  },
  {
   "cell_type": "code",
   "execution_count": null,
   "metadata": {},
   "outputs": [],
   "source": [
    "#Interpolation scheme to pick out phase gradient, phi\n",
    "\n",
    "#Enter your measured power on the detectors\n",
    "\n",
    "p_new = eval(input('Enter total signal power measured on both detectors: '))\n",
    "\n",
    "#Find closest two power data points to interpolate between\n",
    "def closest_values(input_array, input_value):\n",
    "    arr = input_array #Takes in power values s = p1-p2\n",
    "    if input_value > 0: #For positive values on x-axis we're interpolating\n",
    "        k = (np.abs(arr - input_value)).argmin() #Index of smallest difference, to left.\n",
    "        \n",
    "        j = k-1\n",
    "        return arr[j],arr[k],k,j #returns 4-element tuple \n",
    "    elif input_value < 0: #For negative input values\n",
    "        k = (np.abs(arr - input_value)).argmin()\n",
    "        \n",
    "        j = k + 1 #Left of interpolation point\n",
    "        return arr[j],arr[k],k,j\n",
    "print(closest_values(power_plt,p_new))\n",
    "p=closest_values(power_plt,p_new)[0:2] #Picks out first two values of Tuple \n",
    "print(\"The closest value to the \"+ str(p_new)+\" is\",p)\n",
    "\n",
    "#p = list(closest_values(power_plt,p_new))[0:2] #Turns first two tuple elements into list\n",
    "k,j = list(closest_values(power_plt,p_new))[2:] #Turns last two tuple elements into list (indices)\n",
    "#p = [power_plt[k],power_plt[j]]\n",
    "ang = [angle[j], angle[k]] #phi at same indices as power\n",
    "\n",
    "\n",
    "a_new = np.interp(p_new, p, ang) #Use numpy interp function to create estimated phi\n",
    "print('The phase gradient is at',a_new,'rad.')\n",
    "#End of interpolation scheme\n",
    "\n",
    "#Plot phi(power) \n",
    "plt.figure(figsize=(16,16))\n",
    "plt.plot(p, ang, \"g-\", p_new, a_new, '*r',markersize=8) #plots interpolation line and point\n",
    "plt.plot(power_plt,angle,'g.') #plots data of N points\n",
    "plt.grid(True)\n",
    "plt.title('Power of signal vs. Tilt Angle')\n",
    "plt.ylabel(r'Angle $\\phi$ [rad]')\n",
    "plt.xlabel('Signal power [Watts]')\n",
    "plt.show()"
   ]
  },
  {
   "cell_type": "markdown",
   "metadata": {},
   "source": [
    "### Part 2 - Inverting the Erf function to get tilt angle as a function of power, $\\phi (p)$"
   ]
  },
  {
   "cell_type": "code",
   "execution_count": null,
   "metadata": {},
   "outputs": [],
   "source": [
    "def sig_inv_fit(x,a,b,c): \n",
    "    return a*c*special.erfinv(b*x) #Erf with unknown parameters to take any power input to produce the tilt angle\n",
    "\n",
    "[a,b,c], pcov = curve_fit(sig_inv_fit,power_plt,angle)  #Curve-fit to find parameters\n",
    "[aerr,berr,cerr] = np.sqrt(np.diag(pcov)) \n",
    " \n",
    "print(\"a = \", a) \n",
    "print(\"a_err = \", aerr)  \n",
    "print(\"b = \", b) \n",
    "print(\"b_err = \", berr)  \n",
    "print(\"c = \", c) \n",
    "print(\"c_err = \", cerr)  \n",
    "\n",
    "fit = sig_inv_fit(power_plt,a,b,c) #Creates fit and subs paramaters a,b,c\n",
    "\n",
    "plt.figure(figsize=(10,10))\n",
    "plt.plot(power_plt, fit, 'r-',\n",
    "         label='fit: a=%5.3')\n",
    "plt.plot(power_plt, angle, 'g*')\n",
    "\n",
    "plt.xlabel('Power [Watts]')\n",
    "plt.ylabel('Angle [rad]')\n",
    "plt.legend()\n",
    "plt.show()"
   ]
  },
  {
   "cell_type": "code",
   "execution_count": null,
   "metadata": {},
   "outputs": [],
   "source": [
    "def siginv(x): #Creates the Erf Inverse function with same parameters\n",
    "    return a*c*special.erfinv(b*x) \n",
    "\n",
    "power_input = eval(input('Enter the net power on detectors within range of above plot:'))\n",
    "Tilt_Angle = siginv(power_input)\n",
    "print('The tilt angle of the beam is: ',Tilt_Angle,'rad')\n",
    "\n",
    "plt.figure(figsize=(10,10))\n",
    "plt.plot(power_plt, siginv(power_plt), 'r-',\n",
    "         label='fit: a=%5.3')\n",
    "plt.plot(power_input,Tilt_Angle,'*c',markersize=10)\n",
    "plt.xlabel('Signal Power')\n",
    "plt.ylabel('Angle')\n",
    "plt.legend()\n",
    "plt.show()"
   ]
  },
  {
   "cell_type": "code",
   "execution_count": null,
   "metadata": {},
   "outputs": [],
   "source": []
  }
 ],
 "metadata": {
  "kernelspec": {
   "display_name": "Python 3",
   "language": "python",
   "name": "python3"
  },
  "language_info": {
   "codemirror_mode": {
    "name": "ipython",
    "version": 3
   },
   "file_extension": ".py",
   "mimetype": "text/x-python",
   "name": "python",
   "nbconvert_exporter": "python",
   "pygments_lexer": "ipython3",
   "version": "3.8.5"
  }
 },
 "nbformat": 4,
 "nbformat_minor": 4
}
