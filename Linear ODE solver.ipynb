{
 "cells": [
  {
   "cell_type": "code",
   "execution_count": 78,
   "id": "81ef05c0",
   "metadata": {},
   "outputs": [],
   "source": [
    "import numpy as np\n",
    "import matplotlib.pyplot as plt\n",
    "\n",
    "#Eq F matrices\n",
    "\n",
    "def bmatrix(k_array,L_array,Lw):\n",
    "    k1,k2,k3,k4 = k_array\n",
    "    L1,L2,L3,L4 = L_array\n",
    "    B = -1*np.array([[k1*L1-k2*L2],\n",
    "                  [k2*L2-k3*L4],\n",
    "                  [k3*L3-k4*L4+k4*Lw]])\n",
    "    return B\n",
    "\n",
    "def kmatrix(k_array):\n",
    "    k1,k2,k3,k4 = k_array\n",
    "    K = np.array([[-(k1+k2),k2,0],\n",
    "                 [k2,-(k2+k3),k3],\n",
    "                 [0,k3,-(k3+k4)]])\n",
    "    return K"
   ]
  },
  {
   "cell_type": "code",
   "execution_count": 79,
   "id": "2c9ed0c4",
   "metadata": {},
   "outputs": [
    {
     "name": "stdout",
     "output_type": "stream",
     "text": [
      "[[1.]\n",
      " [2.]\n",
      " [3.]]\n"
     ]
    }
   ],
   "source": [
    "#2. Write a function to solve for rest positions and final lengths\n",
    "def position(k,L,Lw):\n",
    "    if np.linalg.det(kmatrix(k)) == 0:\n",
    "        raise ValueError('Singular Matrix (Unsolvable)')\n",
    "    else:\n",
    "        x = np.linalg.solve(kmatrix(k),bmatrix(k,L,Lw))\n",
    "        return x\n",
    "print(x)\n",
    "\n",
    "def springlengths(x,Lw):\n",
    "    x1,x2,x3 = x.flatten()\n",
    "    L1 = x1\n",
    "    L2 = x2-x1\n",
    "    L3 = x3-x2\n",
    "    L4 = Lw - x3\n",
    "    return L1,L2,L3,L4\n",
    "\n",
    "def checker(k,L,Lw,x):\n",
    "    if max(kmatrix(k)@x - bmatrix(k,L,Lw)) == 0:\n",
    "        return True\n",
    "    elif max(abs(kmatrix(k)@x - bmatrix(k,L,Lw))) < 1e-6:\n",
    "        return True\n",
    "    else:\n",
    "        return False"
   ]
  },
  {
   "cell_type": "code",
   "execution_count": 80,
   "id": "06557a45",
   "metadata": {},
   "outputs": [
    {
     "name": "stdout",
     "output_type": "stream",
     "text": [
      "The mass positions are: [1. 2. 3.] The spring lengths are:  [1.0, 1.0, 1.0, 1.0]\n",
      "True\n"
     ]
    }
   ],
   "source": [
    "k = [1,2,3,4]\n",
    "L = [1,1,1,1]\n",
    "Lw = 4\n",
    "\n",
    "positions = position(k,L,Lw)\n",
    "y = springlengths(positions,Lw)\n",
    "print('The mass positions are:',positions.flatten(),'The spring lengths are: ',list(y))\n",
    "print(checker(k,L,Lw,positions))"
   ]
  },
  {
   "cell_type": "code",
   "execution_count": 81,
   "id": "65e65301",
   "metadata": {},
   "outputs": [
    {
     "name": "stdout",
     "output_type": "stream",
     "text": [
      "The mass positions are: [3.88 6.32 8.28] The spring lengths are:  [3.8799999999999994, 2.44, 1.96, 1.7200000000000006]\n",
      "True\n"
     ]
    }
   ],
   "source": [
    "k = [1,2,3,4]\n",
    "L = [1,1,1,1]\n",
    "Lw = 10\n",
    "\n",
    "positions = position(k,L,Lw)\n",
    "y = springlengths(positions,Lw)\n",
    "print('The mass positions are:',positions.flatten(),'The spring lengths are: ',list(y))\n",
    "print(checker(k,L,Lw,positions))"
   ]
  },
  {
   "cell_type": "code",
   "execution_count": 82,
   "id": "44e21e84",
   "metadata": {},
   "outputs": [
    {
     "name": "stdout",
     "output_type": "stream",
     "text": [
      "The mass positions are: [1.5 3.  3.5] The spring lengths are:  [1.5, 1.5, 0.5, 0.5]\n",
      "True\n"
     ]
    }
   ],
   "source": [
    "k = [1,1,1,1]\n",
    "L = [2,2,1,1]\n",
    "Lw = 4\n",
    "\n",
    "positions = position(k,L,Lw)\n",
    "y = springlengths(positions,Lw)\n",
    "print('The mass positions are:',positions.flatten(),'The spring lengths are: ',list(y))\n",
    "print(checker(k,L,Lw,positions))"
   ]
  },
  {
   "cell_type": "code",
   "execution_count": 83,
   "id": "4db07a0f",
   "metadata": {},
   "outputs": [
    {
     "name": "stdout",
     "output_type": "stream",
     "text": [
      "The mass positions are: [2. 4. 5.] The spring lengths are:  [1.9999999999999998, 1.9999999999999998, 0.9999999999999996, -0.9999999999999991]\n",
      "True\n"
     ]
    }
   ],
   "source": [
    "k = [1,1,1,0]\n",
    "L = [2,2,1,1]\n",
    "Lw = 4\n",
    "\n",
    "positions = position(k,L,Lw)\n",
    "y = springlengths(positions,Lw)\n",
    "print('The mass positions are:',positions.flatten(),'The spring lengths are: ',list(y))\n",
    "print(checker(k,L,Lw,positions))"
   ]
  },
  {
   "cell_type": "code",
   "execution_count": 84,
   "id": "4c52943b",
   "metadata": {},
   "outputs": [
    {
     "ename": "ValueError",
     "evalue": "Singular Matrix (Unsolvable)",
     "output_type": "error",
     "traceback": [
      "\u001b[0;31m---------------------------------------------------------------------------\u001b[0m",
      "\u001b[0;31mValueError\u001b[0m                                Traceback (most recent call last)",
      "\u001b[0;32m<ipython-input-84-f14c5ef03133>\u001b[0m in \u001b[0;36m<module>\u001b[0;34m\u001b[0m\n\u001b[1;32m      3\u001b[0m \u001b[0mLw\u001b[0m \u001b[0;34m=\u001b[0m \u001b[0;36m4\u001b[0m\u001b[0;34m\u001b[0m\u001b[0;34m\u001b[0m\u001b[0m\n\u001b[1;32m      4\u001b[0m \u001b[0;34m\u001b[0m\u001b[0m\n\u001b[0;32m----> 5\u001b[0;31m \u001b[0mpositions\u001b[0m \u001b[0;34m=\u001b[0m \u001b[0mposition\u001b[0m\u001b[0;34m(\u001b[0m\u001b[0mk\u001b[0m\u001b[0;34m,\u001b[0m\u001b[0mL\u001b[0m\u001b[0;34m,\u001b[0m\u001b[0mLw\u001b[0m\u001b[0;34m)\u001b[0m\u001b[0;34m\u001b[0m\u001b[0;34m\u001b[0m\u001b[0m\n\u001b[0m\u001b[1;32m      6\u001b[0m \u001b[0my\u001b[0m \u001b[0;34m=\u001b[0m \u001b[0mspringlengths\u001b[0m\u001b[0;34m(\u001b[0m\u001b[0mpositions\u001b[0m\u001b[0;34m,\u001b[0m\u001b[0mLw\u001b[0m\u001b[0;34m)\u001b[0m\u001b[0;34m\u001b[0m\u001b[0;34m\u001b[0m\u001b[0m\n\u001b[1;32m      7\u001b[0m \u001b[0mprint\u001b[0m\u001b[0;34m(\u001b[0m\u001b[0;34m'The mass positions are:'\u001b[0m\u001b[0;34m,\u001b[0m\u001b[0mpositions\u001b[0m\u001b[0;34m.\u001b[0m\u001b[0mflatten\u001b[0m\u001b[0;34m(\u001b[0m\u001b[0;34m)\u001b[0m\u001b[0;34m,\u001b[0m\u001b[0;34m'The spring lengths are: '\u001b[0m\u001b[0;34m,\u001b[0m\u001b[0mlist\u001b[0m\u001b[0;34m(\u001b[0m\u001b[0my\u001b[0m\u001b[0;34m)\u001b[0m\u001b[0;34m)\u001b[0m\u001b[0;34m\u001b[0m\u001b[0;34m\u001b[0m\u001b[0m\n",
      "\u001b[0;32m<ipython-input-79-d466262c17ff>\u001b[0m in \u001b[0;36mposition\u001b[0;34m(k, L, Lw)\u001b[0m\n\u001b[1;32m      2\u001b[0m \u001b[0;32mdef\u001b[0m \u001b[0mposition\u001b[0m\u001b[0;34m(\u001b[0m\u001b[0mk\u001b[0m\u001b[0;34m,\u001b[0m\u001b[0mL\u001b[0m\u001b[0;34m,\u001b[0m\u001b[0mLw\u001b[0m\u001b[0;34m)\u001b[0m\u001b[0;34m:\u001b[0m\u001b[0;34m\u001b[0m\u001b[0;34m\u001b[0m\u001b[0m\n\u001b[1;32m      3\u001b[0m     \u001b[0;32mif\u001b[0m \u001b[0mnp\u001b[0m\u001b[0;34m.\u001b[0m\u001b[0mlinalg\u001b[0m\u001b[0;34m.\u001b[0m\u001b[0mdet\u001b[0m\u001b[0;34m(\u001b[0m\u001b[0mkmatrix\u001b[0m\u001b[0;34m(\u001b[0m\u001b[0mk\u001b[0m\u001b[0;34m)\u001b[0m\u001b[0;34m)\u001b[0m \u001b[0;34m==\u001b[0m \u001b[0;36m0\u001b[0m\u001b[0;34m:\u001b[0m\u001b[0;34m\u001b[0m\u001b[0;34m\u001b[0m\u001b[0m\n\u001b[0;32m----> 4\u001b[0;31m         \u001b[0;32mraise\u001b[0m \u001b[0mValueError\u001b[0m\u001b[0;34m(\u001b[0m\u001b[0;34m'Singular Matrix (Unsolvable)'\u001b[0m\u001b[0;34m)\u001b[0m\u001b[0;34m\u001b[0m\u001b[0;34m\u001b[0m\u001b[0m\n\u001b[0m\u001b[1;32m      5\u001b[0m     \u001b[0;32melse\u001b[0m\u001b[0;34m:\u001b[0m\u001b[0;34m\u001b[0m\u001b[0;34m\u001b[0m\u001b[0m\n\u001b[1;32m      6\u001b[0m         \u001b[0mx\u001b[0m \u001b[0;34m=\u001b[0m \u001b[0mnp\u001b[0m\u001b[0;34m.\u001b[0m\u001b[0mlinalg\u001b[0m\u001b[0;34m.\u001b[0m\u001b[0msolve\u001b[0m\u001b[0;34m(\u001b[0m\u001b[0mkmatrix\u001b[0m\u001b[0;34m(\u001b[0m\u001b[0mk\u001b[0m\u001b[0;34m)\u001b[0m\u001b[0;34m,\u001b[0m\u001b[0mbmatrix\u001b[0m\u001b[0;34m(\u001b[0m\u001b[0mk\u001b[0m\u001b[0;34m,\u001b[0m\u001b[0mL\u001b[0m\u001b[0;34m,\u001b[0m\u001b[0mLw\u001b[0m\u001b[0;34m)\u001b[0m\u001b[0;34m)\u001b[0m\u001b[0;34m\u001b[0m\u001b[0;34m\u001b[0m\u001b[0m\n",
      "\u001b[0;31mValueError\u001b[0m: Singular Matrix (Unsolvable)"
     ]
    }
   ],
   "source": [
    "k = [0,1,1,0]\n",
    "L = [2,2,1,1]\n",
    "Lw = 4\n",
    "\n",
    "positions = position(k,L,Lw)\n",
    "y = springlengths(positions,Lw)\n",
    "print('The mass positions are:',positions.flatten(),'The spring lengths are: ',list(y))\n",
    "print(checker(k,L,Lw,positions))"
   ]
  },
  {
   "cell_type": "code",
   "execution_count": 96,
   "id": "3f09e657",
   "metadata": {},
   "outputs": [
    {
     "name": "stdout",
     "output_type": "stream",
     "text": [
      "[ 1.25        1.20408163  1.15816327  1.1122449   1.06632653  1.02040816\n",
      "  0.9744898   0.92857143  0.88265306  0.83673469  0.79081633  0.74489796\n",
      "  0.69897959  0.65306122  0.60714286  0.56122449  0.51530612  0.46938776\n",
      "  0.42346939  0.37755102  0.33163265  0.28571429  0.23979592  0.19387755\n",
      "  0.14795918  0.10204082  0.05612245  0.01020408 -0.03571429 -0.08163265\n",
      " -0.12755102 -0.17346939 -0.21938776 -0.26530612 -0.31122449 -0.35714286\n",
      " -0.40306122 -0.44897959 -0.49489796 -0.54081633 -0.58673469 -0.63265306\n",
      " -0.67857143 -0.7244898  -0.77040816 -0.81632653 -0.8622449  -0.90816327\n",
      " -0.95408163 -1.        ]\n"
     ]
    }
   ],
   "source": [
    "#4 Challenge Question\n",
    "k = [1,1,1,1]\n",
    "L = [2,2,1,1]\n",
    "Lw = 4\n",
    "N = 50\n",
    "fwall = np.zeros(N)\n",
    "Lw = np.linspace(1,10,N).reshape(N)\n",
    "for i in range(N):\n",
    "    fwall[i] = -k[3]*(Lw[i] - position(k,L,Lw[i])[2] - L[3])\n",
    "print(fwall)"
   ]
  },
  {
   "cell_type": "code",
   "execution_count": 97,
   "id": "e5e20ea4",
   "metadata": {},
   "outputs": [
    {
     "data": {
      "image/png": "[encoded data removed]",
      "text/plain": [
       "<Figure size 432x288 with 1 Axes>"
      ]
     },
     "metadata": {
      "needs_background": "light"
     },
     "output_type": "display_data"
    }
   ],
   "source": [
    "plt.xlabel('Length between walls of spring')\n",
    "plt.ylabel('Force on right wall')\n",
    "plt.grid(True)\n",
    "plt.title('Force on right wall as a function of total length between walls')\n",
    "plt.plot(Lw,fwall,'r')\n",
    "plt.show()"
   ]
  },
  {
   "cell_type": "code",
   "execution_count": 99,
   "id": "b0c54f4c",
   "metadata": {},
   "outputs": [
    {
     "data": {
      "text/plain": [
       "array([ 1.25      ,  1.20408163,  1.15816327,  1.1122449 ,  1.06632653,\n",
       "        1.02040816,  0.9744898 ,  0.92857143,  0.88265306,  0.83673469,\n",
       "        0.79081633,  0.74489796,  0.69897959,  0.65306122,  0.60714286,\n",
       "        0.56122449,  0.51530612,  0.46938776,  0.42346939,  0.37755102,\n",
       "        0.33163265,  0.28571429,  0.23979592,  0.19387755,  0.14795918,\n",
       "        0.10204082,  0.05612245,  0.01020408, -0.03571429, -0.08163265,\n",
       "       -0.12755102, -0.17346939, -0.21938776, -0.26530612, -0.31122449,\n",
       "       -0.35714286, -0.40306122, -0.44897959, -0.49489796, -0.54081633,\n",
       "       -0.58673469, -0.63265306, -0.67857143, -0.7244898 , -0.77040816,\n",
       "       -0.81632653, -0.8622449 , -0.90816327, -0.95408163, -1.        ])"
      ]
     },
     "execution_count": 99,
     "metadata": {},
     "output_type": "execute_result"
    }
   ],
   "source": [
    "#Verify numerically force on right wall \n",
    "k0 = 1/(1/k[0] + 1/k[1] + 1/k[2] + 1/k[3])\n",
    "L0 = L[0] + L[1] + L[2] + L[3]\n",
    "fwall = -k0*(Lw-L0)\n",
    "fwall"
   ]
  }
 ],
 "metadata": {
  "kernelspec": {
   "display_name": "Python 3",
   "language": "python",
   "name": "python3"
  },
  "language_info": {
   "codemirror_mode": {
    "name": "ipython",
    "version": 3
   },
   "file_extension": ".py",
   "mimetype": "text/x-python",
   "name": "python",
   "nbconvert_exporter": "python",
   "pygments_lexer": "ipython3",
   "version": "3.8.5"
  }
 },
 "nbformat": 4,
 "nbformat_minor": 5
}
