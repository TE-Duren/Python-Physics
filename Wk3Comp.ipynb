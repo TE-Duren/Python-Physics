{
 "cells": [
  {
   "cell_type": "code",
   "execution_count": 1,
   "metadata": {},
   "outputs": [
    {
     "name": "stdout",
     "output_type": "stream",
     "text": [
      "2.0\n"
     ]
    }
   ],
   "source": [
    "#Problem 1 - Creating a function that outputs a float\n",
    "\n",
    "import numpy as np\n",
    "import math\n",
    "import matplotlib.pyplot as plt\n",
    "\n",
    "def input_float(x):\n",
    "    return float(x) #Use the in-built function to turn out a float\n",
    "y=input_float(2) #Set float to a variable\n",
    "print(y)"
   ]
  },
  {
   "cell_type": "code",
   "execution_count": 2,
   "metadata": {},
   "outputs": [
    {
     "name": "stdout",
     "output_type": "stream",
     "text": [
      "52\n",
      "2.220446049250313e-16\n"
     ]
    }
   ],
   "source": [
    "#Problem 2 - Machine Epsilon\n",
    "\n",
    "def epsilon_finder(): #create function to find epsilon\n",
    "    e=1\n",
    "    for i in range(500): #iterate i times until e reaches the lowest possible value\n",
    "        e=e/2\n",
    "        if 1+e <=1: #As soon as 1+e becomes less than 1, the value of e is returned.\n",
    "            e=e*2\n",
    "            print(i) #print number of iterations done before e is calculated\n",
    "            \n",
    "            return e\n",
    "        \n",
    "    \n",
    "\n",
    "print(epsilon_finder())"
   ]
  },
  {
   "cell_type": "code",
   "execution_count": 3,
   "metadata": {},
   "outputs": [
    {
     "data": {
      "text/plain": [
       "2.7182818284590455"
      ]
     },
     "execution_count": 3,
     "metadata": {},
     "output_type": "execute_result"
    }
   ],
   "source": [
    "#Problem 3 - Taylor Expansion\n",
    "\n",
    "#define partial sum S(x,N)\n",
    "\n",
    "#3(a)\n",
    "def S(x,N):\n",
    "    s=0.0\n",
    "    for i in range(N):\n",
    "        s += x**(i)/np.math.factorial(i)\n",
    "        \n",
    "    return s\n",
    "\n",
    "S(1,60)"
   ]
  },
  {
   "cell_type": "code",
   "execution_count": 21,
   "metadata": {},
   "outputs": [
    {
     "name": "stdout",
     "output_type": "stream",
     "text": [
      "3.303279646387446e-16\n"
     ]
    }
   ],
   "source": [
    "#3(a)\n",
    "def frac_error(x,N):\n",
    "    output = abs(S(x,N)-np.e**x)/np.e**x\n",
    "    return output\n",
    "print(frac_error(10,60))"
   ]
  },
  {
   "cell_type": "code",
   "execution_count": 16,
   "metadata": {},
   "outputs": [
    {
     "data": {
      "text/plain": [
       "[<matplotlib.lines.Line2D at 0x11c6bfb50>]"
      ]
     },
     "execution_count": 16,
     "metadata": {},
     "output_type": "execute_result"
    },
    {
     "data": {
      "image/png": "[encoded data removed]",
      "text/plain": [
       "<Figure size 432x288 with 1 Axes>"
      ]
     },
     "metadata": {
      "needs_background": "light"
     },
     "output_type": "display_data"
    }
   ],
   "source": [
    "#3(b)\n",
    "x0 = 10\n",
    "yvals = []\n",
    "Nvals = np.arange(0,60,1)\n",
    "\n",
    "for val in Nvals:\n",
    "    yvals.append(frac_error(x0, val))\n",
    "plt.figure()\n",
    "plt.ylabel('Fractional error')\n",
    "plt.xlabel('N')\n",
    "plt.semilogy(Nvals, yvals, 'k.')"
   ]
  },
  {
   "cell_type": "code",
   "execution_count": 13,
   "metadata": {},
   "outputs": [
    {
     "data": {
      "text/plain": [
       "[<matplotlib.lines.Line2D at 0x11c629490>]"
      ]
     },
     "execution_count": 13,
     "metadata": {},
     "output_type": "execute_result"
    },
    {
     "data": {
      "image/png": "[encoded data removed]",
      "text/plain": [
       "<Figure size 432x288 with 1 Axes>"
      ]
     },
     "metadata": {
      "needs_background": "light"
     },
     "output_type": "display_data"
    }
   ],
   "source": [
    "x0 = 2\n",
    "yvals = []\n",
    "Nvals = np.arange(0,60,1)\n",
    "\n",
    "for val in Nvals:\n",
    "    yvals.append(frac_error(x0, val))\n",
    "plt.figure()\n",
    "plt.ylabel('Fractional error')\n",
    "plt.xlabel('N')\n",
    "plt.semilogy(Nvals, yvals, 'k.')"
   ]
  },
  {
   "cell_type": "code",
   "execution_count": 14,
   "metadata": {},
   "outputs": [
    {
     "data": {
      "text/plain": [
       "[<matplotlib.lines.Line2D at 0x11c63fd60>]"
      ]
     },
     "execution_count": 14,
     "metadata": {},
     "output_type": "execute_result"
    },
    {
     "data": {
      "image/png": "[encoded data removed]",
      "text/plain": [
       "<Figure size 432x288 with 1 Axes>"
      ]
     },
     "metadata": {
      "needs_background": "light"
     },
     "output_type": "display_data"
    }
   ],
   "source": [
    "x0 = -2\n",
    "yvals = []\n",
    "Nvals = np.arange(0,60,1)\n",
    "\n",
    "for val in Nvals:\n",
    "    yvals.append(frac_error(x0, val))\n",
    "plt.figure()\n",
    "plt.ylabel('Fractional error')\n",
    "plt.xlabel('N')\n",
    "plt.semilogy(Nvals, yvals, 'k.')"
   ]
  },
  {
   "cell_type": "code",
   "execution_count": 15,
   "metadata": {},
   "outputs": [
    {
     "data": {
      "text/plain": [
       "[<matplotlib.lines.Line2D at 0x11c915af0>]"
      ]
     },
     "execution_count": 15,
     "metadata": {},
     "output_type": "execute_result"
    },
    {
     "data": {
      "image/png": "[encoded data removed]",
      "text/plain": [
       "<Figure size 432x288 with 1 Axes>"
      ]
     },
     "metadata": {
      "needs_background": "light"
     },
     "output_type": "display_data"
    }
   ],
   "source": [
    "x0 = -10\n",
    "yvals = []\n",
    "Nvals = np.arange(0,60,1)\n",
    "\n",
    "for val in Nvals:\n",
    "    yvals.append(frac_error(x0, val))\n",
    "plt.figure()\n",
    "plt.ylabel('Fractional error')\n",
    "plt.xlabel('N')\n",
    "plt.semilogy(Nvals, yvals, 'k.')"
   ]
  },
  {
   "cell_type": "markdown",
   "metadata": {},
   "source": [
    "The expansion doesn't yield good results for x = -10 due to the factorial function not being able to process negative numbers, except for -2! possibly"
   ]
  },
  {
   "cell_type": "code",
   "execution_count": 17,
   "metadata": {},
   "outputs": [
    {
     "name": "stdout",
     "output_type": "stream",
     "text": [
      "1.6337129034990842e-16\n"
     ]
    }
   ],
   "source": [
    "#3(c)\n",
    "#Modify such that we invert the S(x,N) function\n",
    "def frac_error_modified(x,N):\n",
    "    output = abs(np.reciprocal(S(-x,N))-np.e**x)/np.e**x\n",
    "    return output\n",
    "print(frac_error(1,60))"
   ]
  },
  {
   "cell_type": "code",
   "execution_count": 19,
   "metadata": {},
   "outputs": [
    {
     "name": "stderr",
     "output_type": "stream",
     "text": [
      "<ipython-input-17-dfd63f7de20a>:4: RuntimeWarning: divide by zero encountered in reciprocal\n",
      "  output = abs(np.reciprocal(S(-x,N))-np.e**x)/np.e**x\n"
     ]
    },
    {
     "data": {
      "text/plain": [
       "[<matplotlib.lines.Line2D at 0x11cb6e430>]"
      ]
     },
     "execution_count": 19,
     "metadata": {},
     "output_type": "execute_result"
    },
    {
     "data": {
      "image/png": "[encoded data removed]",
      "text/plain": [
       "<Figure size 432x288 with 1 Axes>"
      ]
     },
     "metadata": {
      "needs_background": "light"
     },
     "output_type": "display_data"
    }
   ],
   "source": [
    "#3(c)\n",
    "\n",
    "x0 = -10\n",
    "yvals = []\n",
    "Nvals = np.arange(0,60,1)\n",
    "\n",
    "for val in Nvals:\n",
    "    yvals.append(frac_error_modified(x0, val))\n",
    "plt.figure()\n",
    "plt.ylabel('Fractional error')\n",
    "plt.xlabel('N')\n",
    "plt.semilogy(Nvals, yvals, 'k.')"
   ]
  },
  {
   "cell_type": "code",
   "execution_count": 23,
   "metadata": {},
   "outputs": [
    {
     "name": "stdout",
     "output_type": "stream",
     "text": [
      "inf\n"
     ]
    }
   ],
   "source": [
    "print(3.99e1024)\n"
   ]
  },
  {
   "cell_type": "code",
   "execution_count": null,
   "metadata": {},
   "outputs": [],
   "source": []
  }
 ],
 "metadata": {
  "kernelspec": {
   "display_name": "Python 3",
   "language": "python",
   "name": "python3"
  },
  "language_info": {
   "codemirror_mode": {
    "name": "ipython",
    "version": 3
   },
   "file_extension": ".py",
   "mimetype": "text/x-python",
   "name": "python",
   "nbconvert_exporter": "python",
   "pygments_lexer": "ipython3",
   "version": "3.8.5"
  }
 },
 "nbformat": 4,
 "nbformat_minor": 4
}
