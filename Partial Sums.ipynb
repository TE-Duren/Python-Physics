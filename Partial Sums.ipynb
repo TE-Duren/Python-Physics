{
 "cells": [
  {
   "cell_type": "code",
   "execution_count": 103,
   "metadata": {},
   "outputs": [],
   "source": [
    "import numpy as np\n",
    "import sympy as sp\n",
    "from sympy import Symbol \n",
    "from sympy import symbols \n",
    "from sympy import *\n",
    "x,a = symbols(\"x,a\",real=True)\n",
    "init_printing(use_unicode=True)"
   ]
  },
  {
   "cell_type": "markdown",
   "metadata": {},
   "source": [
    "### Part 1\n",
    "\n",
    "Create a Taylor Series expansion for sine centered around $\\pi/2$ and calculate first 3 terms"
   ]
  },
  {
   "cell_type": "code",
   "execution_count": 104,
   "metadata": {},
   "outputs": [
    {
     "data": {
      "image/png": "[encoded data removed]",
      "text/latex": [
       "$\\displaystyle \\frac{\\left(x - \\frac{\\pi}{2}\\right)^{4}}{24} - \\frac{\\left(x - \\frac{\\pi}{2}\\right)^{2}}{2} + 1.0$"
      ],
      "text/plain": [
       "       4          2      \n",
       "⎛    π⎞    ⎛    π⎞       \n",
       "⎜x - ─⎟    ⎜x - ─⎟       \n",
       "⎝    2⎠    ⎝    2⎠       \n",
       "──────── - ──────── + 1.0\n",
       "   24         2          "
      ]
     },
     "execution_count": 104,
     "metadata": {},
     "output_type": "execute_result"
    }
   ],
   "source": [
    "def S(x,a,N):\n",
    "    s=0.0 #Start initial sum as float 0.0\n",
    "    for i in range(N):\n",
    "            s += (x-a)**(i)/np.math.factorial(i) * diff(sin(x),x,i).subs(x,a) #Taylor series formula\n",
    "            #First term is the approximate value around center of expansion x_0 = a\n",
    "            #Second term differentiates sin(x) with respect to x, for i iterations, \n",
    "            #then substitute x_0 = a into the nth derivative, in this case pi/2.\n",
    "        \n",
    "    return s\n",
    "\n",
    "S(x,sp.pi/2,5)"
   ]
  },
  {
   "cell_type": "code",
   "execution_count": 105,
   "metadata": {},
   "outputs": [
    {
     "data": {
      "image/png": "[encoded data removed]",
      "text/latex": [
       "$\\displaystyle 0.78345$"
      ],
      "text/plain": [
       "0.78345"
      ]
     },
     "execution_count": 105,
     "metadata": {},
     "output_type": "execute_result"
    }
   ],
   "source": [
    "round(S(x,sp.pi/2,5).subs(x,0.9).evalf(),5) #Use this to evaluate at sin(0.9) for first three terms"
   ]
  },
  {
   "cell_type": "markdown",
   "metadata": {},
   "source": [
    "### Part 2 \n",
    "\n",
    "Code the partial sum for Sine given and find N to match closest value to output for part (1)"
   ]
  },
  {
   "cell_type": "code",
   "execution_count": 106,
   "metadata": {},
   "outputs": [
    {
     "data": {
      "image/png": "[encoded data removed]",
      "text/latex": [
       "$\\displaystyle 0.78342$"
      ],
      "text/plain": [
       "0.78342"
      ]
     },
     "execution_count": 106,
     "metadata": {},
     "output_type": "execute_result"
    }
   ],
   "source": [
    "def SineSum(x,N):\n",
    "    s=0.0 \n",
    "    for j in range(N):\n",
    "            #Create summation from formula given for sin(x)\n",
    "            s += (-1)**(j)/np.math.factorial(2*j+1) * x**(2*j+1) \n",
    "        \n",
    "    return s\n",
    "\n",
    "round(SineSum(0.9,3),5)"
   ]
  },
  {
   "cell_type": "markdown",
   "metadata": {},
   "source": [
    "0.78345 $\\approx$ 0.78342"
   ]
  }
 ],
 "metadata": {
  "kernelspec": {
   "display_name": "Python 3",
   "language": "python",
   "name": "python3"
  },
  "language_info": {
   "codemirror_mode": {
    "name": "ipython",
    "version": 3
   },
   "file_extension": ".py",
   "mimetype": "text/x-python",
   "name": "python",
   "nbconvert_exporter": "python",
   "pygments_lexer": "ipython3",
   "version": "3.8.5"
  }
 },
 "nbformat": 4,
 "nbformat_minor": 4
}
